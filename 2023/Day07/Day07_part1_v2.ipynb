{
 "cells": [
  {
   "cell_type": "code",
   "execution_count": 9,
   "id": "062d2f48",
   "metadata": {},
   "outputs": [
    {
     "name": "stdout",
     "output_type": "stream",
     "text": [
      "[('32T3K', 765), ('T55J5', 684), ('KK677', 28), ('KTJJT', 220), ('QQQJA', 483)]\n",
      "[2, 1, 1, 2, 1]\n",
      "[1, 3, 3, 1, 3]\n",
      "[2, 2, 1, 2, 2]\n",
      "[1, 2, 2, 2, 2]\n",
      "[3, 3, 3, 1, 1]\n",
      "[('32T3K', 765), ('KTJJT', 220), ('KK677', 28), ('T55J5', 684), ('QQQJA', 483)]\n",
      "6440\n"
     ]
    }
   ],
   "source": [
    "letter_map = {\"T\": \"A\", \"J\": \"B\", \"Q\": \"C\", \"K\": \"D\", \"A\": \"E\"}\n",
    "\n",
    "\n",
    "def classify(hand):\n",
    "    counts = [hand.count(card) for card in hand]\n",
    "    print(counts)\n",
    "    if 5 in counts:\n",
    "        return 6\n",
    "    if 4 in counts:\n",
    "        return 5\n",
    "    if 3 in counts:\n",
    "        if 2 in counts:\n",
    "            return 4\n",
    "        return 3\n",
    "    if counts.count(2) == 4:\n",
    "        return 2\n",
    "    if 2 in counts:\n",
    "        return 1\n",
    "    return 0\n",
    "\n",
    "\n",
    "def strength(hand):\n",
    "    return (classify(hand), [letter_map.get(card, card) for card in hand])\n",
    "\n",
    "\n",
    "plays = []\n",
    "\n",
    "#fileName = 'day07.txt'\n",
    "fileName = 'day07_sample.txt'\n",
    "\n",
    "for line in open(fileName, 'r'):\n",
    "    hand, bid = line.split()\n",
    "    plays.append((hand, int(bid)))\n",
    "\n",
    "print(plays)\n",
    "\n",
    "plays.sort(key=lambda play: strength(play[0]))\n",
    "\n",
    "print(plays)\n",
    "total = 0\n",
    "\n",
    "for rank, (hand, bid) in enumerate(plays, 1):\n",
    "    total += rank * bid\n",
    "\n",
    "print(total)"
   ]
  }
 ],
 "metadata": {
  "kernelspec": {
   "display_name": "Python 3 (ipykernel)",
   "language": "python",
   "name": "python3"
  },
  "language_info": {
   "codemirror_mode": {
    "name": "ipython",
    "version": 3
   },
   "file_extension": ".py",
   "mimetype": "text/x-python",
   "name": "python",
   "nbconvert_exporter": "python",
   "pygments_lexer": "ipython3",
   "version": "3.9.6"
  }
 },
 "nbformat": 4,
 "nbformat_minor": 5
}
