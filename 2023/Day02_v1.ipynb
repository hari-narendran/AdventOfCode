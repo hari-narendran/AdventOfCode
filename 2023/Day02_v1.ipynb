{
 "cells": [
  {
   "cell_type": "code",
   "execution_count": 13,
   "id": "062d2f48",
   "metadata": {},
   "outputs": [],
   "source": [
    "# Open the text file in read mode ('r')\n",
    "lines=[]\n",
    "with open('day01.txt', 'r') as file:\n",
    "    for line in file:\n",
    "        lines.append(line.strip())\n",
    "\n",
    "#print(lines)\n",
    "digitsMap_ = [('one','1'),('two','2'),('three','3'),('four','4'),('five','5'),('six','6'),('seven','7'),('eight','8'),('nine','9')]\n",
    "digitsMap = [('one','o1e'),('two','t2o'),('three','t3e'),('four','f4r'),('five','f5e'),('six','s6x'),('seven','s7n'),('eight','e8t'),('nine','n9e')]"
   ]
  },
  {
   "cell_type": "code",
   "execution_count": null,
   "id": "f8b11491",
   "metadata": {},
   "outputs": [],
   "source": []
  }
 ],
 "metadata": {
  "kernelspec": {
   "display_name": "Python 3 (ipykernel)",
   "language": "python",
   "name": "python3"
  },
  "language_info": {
   "codemirror_mode": {
    "name": "ipython",
    "version": 3
   },
   "file_extension": ".py",
   "mimetype": "text/x-python",
   "name": "python",
   "nbconvert_exporter": "python",
   "pygments_lexer": "ipython3",
   "version": "3.10.9"
  }
 },
 "nbformat": 4,
 "nbformat_minor": 5
}
