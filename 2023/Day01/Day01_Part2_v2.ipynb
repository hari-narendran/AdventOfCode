{
 "cells": [
  {
   "cell_type": "code",
   "execution_count": 1,
   "id": "062d2f48",
   "metadata": {},
   "outputs": [
    {
     "name": "stdout",
     "output_type": "stream",
     "text": [
      "['two1nine', 'eightwothree', 'abcone2threexyz', 'xtwone3four', '4nineeightseven2', 'zoneight234', '7pqrstsixteen']\n"
     ]
    }
   ],
   "source": [
    "# Open the text file in read mode ('r')\n",
    "lines=[]\n",
    "with open('day01_sample.txt', 'r') as file:\n",
    "    for line in file:\n",
    "        lines.append(line.strip())\n",
    "\n",
    "print(lines)"
   ]
  },
  {
   "cell_type": "code",
   "execution_count": 3,
   "id": "973a0bcd",
   "metadata": {},
   "outputs": [
    {
     "name": "stdout",
     "output_type": "stream",
     "text": [
      "['xtwone', '3', 'four']\n",
      "xtwone3four\n"
     ]
    }
   ],
   "source": [
    "import re\n",
    "\n",
    "def replace_spelled_out_digits(s):\n",
    "    digit_map = {\n",
    "        'zero': '0',\n",
    "        'one': '1',\n",
    "        'two': '2',\n",
    "        'three': '3',\n",
    "        'four': '4',\n",
    "        'five': '5',\n",
    "        'six': '6',\n",
    "        'seven': '7',\n",
    "        'eight': '8',\n",
    "        'nine': '9'\n",
    "    }\n",
    "\n",
    "    segments = re.findall(r'[a-zA-Z]+|\\d+|\\W+', s)\n",
    "    print(segments)\n",
    "\n",
    "    return s\n",
    "\n",
    "# Test the function\n",
    "print(replace_spelled_out_digits(\"xtwone3four\"))  # Expected output: x2134\n"
   ]
  },
  {
   "cell_type": "code",
   "execution_count": 22,
   "id": "16e5f87c",
   "metadata": {},
   "outputs": [
    {
     "name": "stdout",
     "output_type": "stream",
     "text": [
      "219\n",
      "eigh23\n",
      "abc123xyz\n",
      "xtw134\n",
      "49872\n",
      "z1ight234\n",
      "7pqrst6teen\n",
      "['219', 'eigh23', 'abc123xyz', 'xtw134', '49872', 'z1ight234', '7pqrst6teen']\n"
     ]
    }
   ],
   "source": [
    "convertedLines = []\n",
    "for line in lines:\n",
    "    convertedLines.append(convertStringToDigit(line))\n",
    "print(convertedLines)"
   ]
  },
  {
   "cell_type": "code",
   "execution_count": 23,
   "id": "2705765b",
   "metadata": {},
   "outputs": [],
   "source": [
    "def findCalibrationValue(value):\n",
    "    digits = []\n",
    "    for c in value:\n",
    "        if(c.isdigit()):\n",
    "            digits.append(c)\n",
    "    caliValue = ''\n",
    "    length = len(digits)\n",
    "    if(length>1):\n",
    "        caliValue = digits[0]+digits[length-1]\n",
    "    else:\n",
    "        caliValue = digits[0]+digits[0]\n",
    "    return int(caliValue)"
   ]
  },
  {
   "cell_type": "code",
   "execution_count": 25,
   "id": "f80b9288",
   "metadata": {},
   "outputs": [
    {
     "name": "stdout",
     "output_type": "stream",
     "text": [
      "29\n",
      "23\n",
      "13\n",
      "14\n",
      "42\n",
      "14\n",
      "76\n",
      "211\n"
     ]
    }
   ],
   "source": [
    "calibrationValueSum = 0\n",
    "for line in convertedLines:\n",
    "    print(findCalibrationValue(line))\n",
    "    calibrationValueSum += findCalibrationValue(line)\n",
    "print(calibrationValueSum)"
   ]
  },
  {
   "cell_type": "code",
   "execution_count": null,
   "id": "f8b11491",
   "metadata": {},
   "outputs": [],
   "source": []
  }
 ],
 "metadata": {
  "kernelspec": {
   "display_name": "Python 3 (ipykernel)",
   "language": "python",
   "name": "python3"
  },
  "language_info": {
   "codemirror_mode": {
    "name": "ipython",
    "version": 3
   },
   "file_extension": ".py",
   "mimetype": "text/x-python",
   "name": "python",
   "nbconvert_exporter": "python",
   "pygments_lexer": "ipython3",
   "version": "3.10.9"
  }
 },
 "nbformat": 4,
 "nbformat_minor": 5
}
