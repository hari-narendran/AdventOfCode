{
 "cells": [
  {
   "cell_type": "code",
   "execution_count": 1,
   "id": "062d2f48",
   "metadata": {},
   "outputs": [
    {
     "name": "stdout",
     "output_type": "stream",
     "text": [
      "[79, 14, 55, 13]\n"
     ]
    }
   ],
   "source": [
    "\n",
    "\n",
    "fileName = 'day06_sample.txt'     \n",
    "#fileName = 'day05.txt'\n",
    "seeds, *blocks = open(fileName).read().split('\\n\\n')\n",
    "\n",
    "seeds = list(map(int,seeds.split(':')[1].split()))\n",
    "print(seeds)\n",
    "\n",
    "newSeeds = []\n",
    "def findSeedRange(seed,length):\n",
    "    seedRange = []\n",
    "    for x in range(seed,seed+length):\n",
    "        seedRange.append(x)\n",
    "    return seedRange\n",
    "\n",
    "for i in range(0,len(seeds),2):\n",
    "    #print('i : ',i)\n",
    "    #newSeeds.append(findSeedRange(seeds[i],seeds[i+1]))\n",
    "    newSeeds = newSeeds + findSeedRange(seeds[i],seeds[i+1])\n",
    "    #print(seeds[i],seeds[i+1])\n",
    "\n",
    "#print(newSeeds)\n"
   ]
  }
 ],
 "metadata": {
  "kernelspec": {
   "display_name": "Python 3 (ipykernel)",
   "language": "python",
   "name": "python3"
  },
  "language_info": {
   "codemirror_mode": {
    "name": "ipython",
    "version": 3
   },
   "file_extension": ".py",
   "mimetype": "text/x-python",
   "name": "python",
   "nbconvert_exporter": "python",
   "pygments_lexer": "ipython3",
   "version": "3.9.6"
  }
 },
 "nbformat": 4,
 "nbformat_minor": 5
}
