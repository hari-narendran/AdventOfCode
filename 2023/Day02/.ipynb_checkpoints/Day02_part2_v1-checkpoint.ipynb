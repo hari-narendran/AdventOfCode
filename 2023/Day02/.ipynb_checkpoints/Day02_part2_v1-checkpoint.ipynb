{
 "cells": [
  {
   "cell_type": "code",
   "execution_count": 123,
   "id": "062d2f48",
   "metadata": {},
   "outputs": [],
   "source": [
    "# Open the text file in read mode ('r')\n",
    "lines=[]\n",
    "with open('day02.txt', 'r') as file:\n",
    "    for line in file:\n",
    "        lines.append(line.strip())\n",
    "\n",
    "#print(lines)"
   ]
  },
  {
   "cell_type": "code",
   "execution_count": 124,
   "id": "b9b662e6",
   "metadata": {},
   "outputs": [
    {
     "name": "stdout",
     "output_type": "stream",
     "text": [
      "[[' 3 blue', ' 4 red'], [' 1 red', ' 2 green', ' 6 blue'], [' 2 green']]\n"
     ]
    }
   ],
   "source": [
    "line = 'Game 1: 3 blue, 4 red; 1 red, 2 green, 6 blue; 2 green'\n",
    "\n",
    "game_number = line.split(':')[0]\n",
    "game_set_split_1 =line.split(':')[1]\n",
    "game_set_split_2 = game_set_split_1.split(';')\n",
    "game_set_split_3 = [item.split(',') for item in game_set_split_2]\n",
    "\n",
    "def parseGame(game):\n",
    "    game_number = game.split(':')[0]\n",
    "    game_set_split_1 =game.split(':')[1]\n",
    "    game_set_split_2 = game_set_split_1.split(';')\n",
    "    parsedGame = [item.split(',') for item in game_set_split_2]\n",
    "    return parsedGame\n",
    "\n",
    "print(parseGame('Game 1: 3 blue, 4 red; 1 red, 2 green, 6 blue; 2 green'))"
   ]
  },
  {
   "cell_type": "code",
   "execution_count": 125,
   "id": "f8b11491",
   "metadata": {},
   "outputs": [],
   "source": [
    "def parseSteps(steps):\n",
    "    #print(steps)\n",
    "    parsedSteps = []\n",
    "    for step in steps:\n",
    "        #print(step)\n",
    "        rgb = {'red':0,'green':0,'blue':0}\n",
    "        for color in step:\n",
    "            if('red' in color):\n",
    "                rgb['red'] = int(color.split(' ')[1])\n",
    "            if('green' in color):\n",
    "                rgb['green'] = int(color.split(' ')[1])\n",
    "            if('blue' in color):\n",
    "                rgb['blue'] = int(color.split(' ')[1])\n",
    "        parsedSteps.append(rgb)\n",
    "        #print(parsedSteps)\n",
    "    return parsedSteps\n",
    "        \n",
    "#parseSteps(parseGame('Game 1: 3 blue, 4 red; 1 red, 2 green, 6 blue; 2 green'))"
   ]
  },
  {
   "cell_type": "code",
   "execution_count": 130,
   "id": "397501f3",
   "metadata": {},
   "outputs": [
    {
     "name": "stdout",
     "output_type": "stream",
     "text": [
      "False\n"
     ]
    }
   ],
   "source": [
    "def isGamePossible(game):\n",
    "    rgb = {'red':12,'green':13,'blue':14}\n",
    "    isPossible = True\n",
    "    for step in game:\n",
    "        if(step['red'] > rgb['red'] or step['green'] > rgb['green'] or step['blue'] > rgb['blue']):\n",
    "            #print('Impossible!')\n",
    "            isPossible = False\n",
    "        #else:\n",
    "            #print('Possible')\n",
    "    return isPossible\n",
    "\n",
    "print(isGamePossible([{'red': 6, 'green': 3, 'blue': 1}, {'red': 1, 'green': 2, 'blue': 22}]))"
   ]
  },
  {
   "cell_type": "code",
   "execution_count": 132,
   "id": "a4f3ddc2",
   "metadata": {},
   "outputs": [
    {
     "name": "stdout",
     "output_type": "stream",
     "text": [
      "2317\n"
     ]
    }
   ],
   "source": [
    "sumOfGameIds = 0\n",
    "for gameId, line in enumerate(lines):\n",
    "    parsedGame = parseGame(line)\n",
    "    #print(parsedGame)\n",
    "    parsedSteps = parseSteps(parsedGame)\n",
    "    #print(parsedSteps)\n",
    "    #print(isGamePossible(parsedSteps))\n",
    "    if isGamePossible(parsedSteps):\n",
    "        #print(gameId+1)\n",
    "        sumOfGameIds += gameId+1;\n",
    "print(sumOfGameIds)\n",
    "    \n",
    "    "
   ]
  },
  {
   "cell_type": "code",
   "execution_count": null,
   "id": "21ada96c",
   "metadata": {},
   "outputs": [],
   "source": []
  }
 ],
 "metadata": {
  "kernelspec": {
   "display_name": "Python 3 (ipykernel)",
   "language": "python",
   "name": "python3"
  },
  "language_info": {
   "codemirror_mode": {
    "name": "ipython",
    "version": 3
   },
   "file_extension": ".py",
   "mimetype": "text/x-python",
   "name": "python",
   "nbconvert_exporter": "python",
   "pygments_lexer": "ipython3",
   "version": "3.10.9"
  }
 },
 "nbformat": 4,
 "nbformat_minor": 5
}
