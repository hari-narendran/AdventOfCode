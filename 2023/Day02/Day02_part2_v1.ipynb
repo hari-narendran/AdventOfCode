{
 "cells": [
  {
   "cell_type": "code",
   "execution_count": 40,
   "id": "062d2f48",
   "metadata": {},
   "outputs": [],
   "source": [
    "# Open the text file in read mode ('r')\n",
    "lines=[]\n",
    "with open('day02.txt', 'r') as file:\n",
    "    for line in file:\n",
    "        lines.append(line.strip())\n",
    "\n",
    "#print(lines)"
   ]
  },
  {
   "cell_type": "code",
   "execution_count": 41,
   "id": "b9b662e6",
   "metadata": {},
   "outputs": [
    {
     "name": "stdout",
     "output_type": "stream",
     "text": [
      "[[' 3 blue', ' 4 red'], [' 1 red', ' 2 green', ' 6 blue'], [' 2 green']]\n"
     ]
    }
   ],
   "source": [
    "def parseGame(game):\n",
    "    game_number = game.split(':')[0]\n",
    "    game_set_split_1 =game.split(':')[1]\n",
    "    game_set_split_2 = game_set_split_1.split(';')\n",
    "    parsedGame = [item.split(',') for item in game_set_split_2]\n",
    "    return parsedGame\n",
    "\n",
    "print(parseGame('Game 1: 3 blue, 4 red; 1 red, 2 green, 6 blue; 2 green'))"
   ]
  },
  {
   "cell_type": "code",
   "execution_count": 42,
   "id": "f8b11491",
   "metadata": {},
   "outputs": [],
   "source": [
    "def parseSteps(steps):\n",
    "    #print(steps)\n",
    "    parsedSteps = []\n",
    "    for step in steps:\n",
    "        #print(step)\n",
    "        rgb = {'red':0,'green':0,'blue':0}\n",
    "        for color in step:\n",
    "            if('red' in color):\n",
    "                rgb['red'] = int(color.split(' ')[1])\n",
    "            if('green' in color):\n",
    "                rgb['green'] = int(color.split(' ')[1])\n",
    "            if('blue' in color):\n",
    "                rgb['blue'] = int(color.split(' ')[1])\n",
    "        parsedSteps.append(rgb)\n",
    "        #print(parsedSteps)\n",
    "    return parsedSteps\n",
    "        \n",
    "#parseSteps(parseGame('Game 2: 1 blue, 2 green; 3 green, 4 blue, 1 red; 1 green, 1 blue'))"
   ]
  },
  {
   "cell_type": "code",
   "execution_count": 44,
   "id": "c17c8851",
   "metadata": {},
   "outputs": [
    {
     "ename": "IndentationError",
     "evalue": "unindent does not match any outer indentation level (<tokenize>, line 13)",
     "output_type": "error",
     "traceback": [
      "\u001b[0;36m  File \u001b[0;32m<tokenize>:13\u001b[0;36m\u001b[0m\n\u001b[0;31m    {'red': 1, 'green': 3, 'blue': 4},\u001b[0m\n\u001b[0m    ^\u001b[0m\n\u001b[0;31mIndentationError\u001b[0m\u001b[0;31m:\u001b[0m unindent does not match any outer indentation level\n"
     ]
    }
   ],
   "source": [
    "def findMinimumColorCubes(game):\n",
    "    minColor = {'red':0,'green':0,'blue':0}\n",
    "    for step in game:\n",
    "        if(step['red'] > minColor['red']):\n",
    "            minColor['red'] = step['red']\n",
    "        if(step['green'] > minColor['green']):\n",
    "            minColor['green'] = step['green']\n",
    "        if(step['blue'] > minColor['blue']):\n",
    "            minColor['blue'] = step['blue']\n",
    "    #print(minColor)\n",
    "    return minColor\n",
    "#print(findMinimumColorCubes([{'red': 0, 'green': 2, 'blue': 1},\n",
    " {'red': 1, 'green': 3, 'blue': 4},\n",
    " {'red': 0, 'green': 1, 'blue': 1}]))"
   ]
  },
  {
   "cell_type": "code",
   "execution_count": 45,
   "id": "b4778906",
   "metadata": {},
   "outputs": [
    {
     "name": "stdout",
     "output_type": "stream",
     "text": [
      "Sum of power of sets :  74804\n"
     ]
    }
   ],
   "source": [
    "#def findCubesPower(games):\n",
    "minColor = {}\n",
    "sumofPower = 0\n",
    "for game in lines:\n",
    "    #print(game)\n",
    "    parsedGame = parseGame(game)\n",
    "    parsedSteps = parseSteps(parsedGame)\n",
    "\n",
    "    minColor = findMinimumColorCubes(parsedSteps)\n",
    "    #print(minColor)\n",
    "    cubePower = minColor['red']*minColor['green']*minColor['blue']\n",
    "    #print(cubePower)\n",
    "    sumofPower += cubePower\n",
    "print('Sum of power of sets : ',sumofPower)\n",
    "        \n",
    "#findCubesPower(lines)"
   ]
  },
  {
   "cell_type": "code",
   "execution_count": null,
   "id": "21ada96c",
   "metadata": {},
   "outputs": [],
   "source": []
  }
 ],
 "metadata": {
  "kernelspec": {
   "display_name": "Python 3 (ipykernel)",
   "language": "python",
   "name": "python3"
  },
  "language_info": {
   "codemirror_mode": {
    "name": "ipython",
    "version": 3
   },
   "file_extension": ".py",
   "mimetype": "text/x-python",
   "name": "python",
   "nbconvert_exporter": "python",
   "pygments_lexer": "ipython3",
   "version": "3.10.9"
  }
 },
 "nbformat": 4,
 "nbformat_minor": 5
}
