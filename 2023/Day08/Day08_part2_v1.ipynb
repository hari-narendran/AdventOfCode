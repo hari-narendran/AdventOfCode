{
 "cells": [
  {
   "cell_type": "code",
   "execution_count": 38,
   "id": "062d2f48",
   "metadata": {},
   "outputs": [
    {
     "name": "stdout",
     "output_type": "stream",
     "text": [
      "[{'GPA': {'L': 'SDK', 'R': 'MRM'}}, {'GTA': {'L': 'GSL', 'R': 'FMR'}}, {'VDA': {'L': 'CBP', 'R': 'VRP'}}, {'BBA': {'L': 'TVV', 'R': 'VLF'}}, {'AAA': {'L': 'PBJ', 'R': 'RXK'}}, {'VSA': {'L': 'LQF', 'R': 'HMX'}}]\n"
     ]
    }
   ],
   "source": [
    "import math\n",
    "\n",
    "\n",
    "fileName = 'day08.txt'\n",
    "#fileName = 'day08_sample.txt'\n",
    "#fileName = 'day08_part02_sample.txt'\n",
    "\n",
    "def parseString(str):\n",
    "    key, value = str.split(' = ')\n",
    "    value=value.strip().strip('()')\n",
    "    left,right = value.split(',')\n",
    "    #print(key,left,right)\n",
    "    return {key.strip():{'L': left.strip(), 'R': right.strip()}}\n",
    "\n",
    "#instr = 'LR'\n",
    "instr = 'LLRRRLLRLRRRLLRLRLRLRLRRRLRRLRRLRLLLRRLLRRLRRLRRLRRRLLLRRLRLRRRLRRRLRLRRLRRRLRLRRRLRLRLLLRLRRLRLRRLRRRLRLRRRLRRRLRRRLRRRLRLRRRLRRRLRLLRRLRLRLRRRLRRLRRRLRRRLRRRLRRRLLLLRRLLRLRRLRRLRRRLRRRLLLRRLRRLRLRRLRRRLRRLRLRRRLRLRRLLRLLRRLRLRRRLRRLRRLRLRRLLLRRRLRLRRRLRLRLLRLRLRRRLRLRLRRRLRRLRRLRRRLRRLLRRRR'\n",
    "networks = []\n",
    "with open(fileName, 'r') as file:\n",
    "    for line in file:\n",
    "        words = line.strip()\n",
    "        networks.append(parseString(words))\n",
    "\n",
    "#print(networks)\n",
    "\n",
    "startNetworks = [n for n in networks if any(key[2] == 'A' for key in n.keys())]\n",
    "\n",
    "print(startNetworks)\n",
    "#print(list(startNetworks[0].keys())[0])"
   ]
  },
  {
   "cell_type": "code",
   "execution_count": 39,
   "id": "bc765261",
   "metadata": {},
   "outputs": [
    {
     "name": "stdout",
     "output_type": "stream",
     "text": [
      "18625484023687\n"
     ]
    }
   ],
   "source": [
    "\n",
    "def findNetwork(networks,key, dir):\n",
    "    for network in networks:\n",
    "        #print(network)\n",
    "        if key in network:\n",
    "            return network[key][dir]\n",
    "    return None\n",
    "        \n",
    "#print(findNetwork(networks,'CCC', 'R'))\n",
    "\n",
    "def findSteps(networks,startNetwork):\n",
    "    #dest = 'AAA'\n",
    "    dest = list(startNetwork.keys())[0]\n",
    "    #print(dest)\n",
    "    index = 0\n",
    "    instrLength = len(instr)\n",
    "    steps = 0\n",
    "\n",
    "    while dest and dest[2] != 'Z':\n",
    "        steps += 1\n",
    "        dest = findNetwork(networks,dest,instr[index])\n",
    "        #print(instr[index])\n",
    "        index = (index + 1) % instrLength\n",
    "        #print('current dest: ',dest)\n",
    "    return steps\n",
    "\n",
    "countsList = []\n",
    "for startNetwork in startNetworks:\n",
    "    #print(findSteps(networks,startNetwork))\n",
    "    countsList.append(findSteps(networks,startNetwork))\n",
    "\n",
    "#print(countsList)\n",
    "\n",
    "print(math.lcm(*countsList))"
   ]
  },
  {
   "cell_type": "code",
   "execution_count": null,
   "id": "a6fcbd0d",
   "metadata": {},
   "outputs": [],
   "source": []
  }
 ],
 "metadata": {
  "kernelspec": {
   "display_name": "Python 3 (ipykernel)",
   "language": "python",
   "name": "python3"
  },
  "language_info": {
   "codemirror_mode": {
    "name": "ipython",
    "version": 3
   },
   "file_extension": ".py",
   "mimetype": "text/x-python",
   "name": "python",
   "nbconvert_exporter": "python",
   "pygments_lexer": "ipython3",
   "version": "3.9.6"
  }
 },
 "nbformat": 4,
 "nbformat_minor": 5
}
