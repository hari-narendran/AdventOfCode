{
 "cells": [
  {
   "cell_type": "code",
   "execution_count": 35,
   "id": "062d2f48",
   "metadata": {},
   "outputs": [],
   "source": [
    "fileName = 'day08.txt'\n",
    "#fileName = 'day08_sample.txt'\n",
    "\n",
    "def parseString(str):\n",
    "    key, value = str.split(' = ')\n",
    "    value=value.strip().strip('()')\n",
    "    left,right = value.split(',')\n",
    "    #print(key,left,right)\n",
    "    return {key.strip():{'L': left.strip(), 'R': right.strip()}}\n",
    "\n",
    "#instr = 'LLR'\n",
    "instr = 'LLRRRLLRLRRRLLRLRLRLRLRRRLRRLRRLRLLLRRLLRRLRRLRRLRRRLLLRRLRLRRRLRRRLRLRRLRRRLRLRRRLRLRLLLRLRRLRLRRLRRRLRLRRRLRRRLRRRLRRRLRLRRRLRRRLRLLRRLRLRLRRRLRRLRRRLRRRLRRRLRRRLLLLRRLLRLRRLRRLRRRLRRRLLLRRLRRLRLRRLRRRLRRLRLRRRLRLRRLLRLLRRLRLRRRLRRLRRLRLRRLLLRRRLRLRRRLRLRLLRLRLRRRLRLRLRRRLRRLRRLRRRLRRLLRRRR'\n",
    "networks = []\n",
    "with open(fileName, 'r') as file:\n",
    "    for line in file:\n",
    "        words = line.strip()\n",
    "        networks.append(parseString(words))\n",
    "\n",
    "#print(networks)"
   ]
  },
  {
   "cell_type": "code",
   "execution_count": 36,
   "id": "bc765261",
   "metadata": {},
   "outputs": [
    {
     "name": "stdout",
     "output_type": "stream",
     "text": [
      "17287\n"
     ]
    }
   ],
   "source": [
    "def findNetwork(networks,key, dir):\n",
    "    for network in networks:\n",
    "        #print(network)\n",
    "        if key in network:\n",
    "            return network[key][dir]\n",
    "    return None\n",
    "        \n",
    "#print(findNetwork(networks,'CCC', 'R'))\n",
    "\n",
    "dest = 'AAA'\n",
    "index = 0\n",
    "instrLength = len(instr)\n",
    "steps = 0\n",
    "\n",
    "while dest != 'ZZZ':\n",
    "    steps += 1\n",
    "    dest = findNetwork(networks,dest,instr[index])\n",
    "    #print(instr[index])\n",
    "    index = (index + 1) % instrLength\n",
    "    #print('current dest: ',dest)\n",
    "\n",
    "print(steps)"
   ]
  },
  {
   "cell_type": "code",
   "execution_count": null,
   "id": "a6fcbd0d",
   "metadata": {},
   "outputs": [],
   "source": []
  }
 ],
 "metadata": {
  "kernelspec": {
   "display_name": "Python 3 (ipykernel)",
   "language": "python",
   "name": "python3"
  },
  "language_info": {
   "codemirror_mode": {
    "name": "ipython",
    "version": 3
   },
   "file_extension": ".py",
   "mimetype": "text/x-python",
   "name": "python",
   "nbconvert_exporter": "python",
   "pygments_lexer": "ipython3",
   "version": "3.9.6"
  }
 },
 "nbformat": 4,
 "nbformat_minor": 5
}
