{
 "cells": [
  {
   "cell_type": "code",
   "execution_count": 21,
   "id": "062d2f48",
   "metadata": {},
   "outputs": [
    {
     "name": "stdout",
     "output_type": "stream",
     "text": [
      "['38', '67', '76', '73']\n",
      "38677673\n",
      "['234', '1027', '1157', '1236']\n",
      "234102711571236\n",
      "[38677673, 234102711571236]\n",
      "[(38677673, 234102711571236)]\n"
     ]
    }
   ],
   "source": [
    "import re\n",
    "\n",
    "parsedVales = []\n",
    "fileName = 'day06.txt'\n",
    "#fileName = 'day06_sample.txt'\n",
    "\n",
    "# Use regular expressions to find and extract the values\n",
    "with open(fileName, 'r') as file:\n",
    "    for line in file:\n",
    "        words = line.strip().split()[1:]\n",
    "        print (words)\n",
    "        values = ''.join(words)\n",
    "        print(values)\n",
    "        parsedVales.append(int(values))\n",
    "\n",
    "print(parsedVales)\n",
    "\n",
    "races = [(parsedVales[0],parsedVales[1])]\n",
    "\n",
    "print(races)"
   ]
  },
  {
   "cell_type": "code",
   "execution_count": 23,
   "id": "7357472a",
   "metadata": {},
   "outputs": [
    {
     "name": "stdout",
     "output_type": "stream",
     "text": [
      "23654842\n"
     ]
    }
   ],
   "source": [
    "noWaysToBeatRecord = 1\n",
    "for race in races:\n",
    "    time, distance = race\n",
    "    couldBeatRecords = []\n",
    "    #print('Time : ',time)\n",
    "    for t in range(time):\n",
    "        #print('Sec : ',t)\n",
    "        #print((time-t)*t)\n",
    "        d = (time-t)*t\n",
    "        if(d > distance):\n",
    "            #print('Sec : ',t,' ',d)\n",
    "            couldBeatRecords.append(t)\n",
    "    #print(couldBeatRecords)\n",
    "    #print(len(couldBeatRecords))\n",
    "    noWaysToBeatRecord *= len(couldBeatRecords)\n",
    "\n",
    "print(noWaysToBeatRecord)\n",
    "\n",
    "    "
   ]
  }
 ],
 "metadata": {
  "kernelspec": {
   "display_name": "Python 3 (ipykernel)",
   "language": "python",
   "name": "python3"
  },
  "language_info": {
   "codemirror_mode": {
    "name": "ipython",
    "version": 3
   },
   "file_extension": ".py",
   "mimetype": "text/x-python",
   "name": "python",
   "nbconvert_exporter": "python",
   "pygments_lexer": "ipython3",
   "version": "3.9.6"
  }
 },
 "nbformat": 4,
 "nbformat_minor": 5
}
