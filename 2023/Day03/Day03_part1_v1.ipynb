{
 "cells": [
  {
   "cell_type": "code",
   "execution_count": 3,
   "id": "062d2f48",
   "metadata": {},
   "outputs": [
    {
     "name": "stdout",
     "output_type": "stream",
     "text": [
      "['467..114..', '...*......', '..35..633.', '......#...', '617*......', '.....+.58.', '..592.....', '......755.', '...$.*....', '.664.598..']\n"
     ]
    }
   ],
   "source": [
    "# Open the text file in read mode ('r')\n",
    "lines=[]\n",
    "with open('day03_sample.txt', 'r') as file:\n",
    "    for line in file:\n",
    "        lines.append(line.strip())\n",
    "\n",
    "print(lines)"
   ]
  },
  {
   "cell_type": "code",
   "execution_count": 6,
   "id": "e3563981",
   "metadata": {},
   "outputs": [
    {
     "name": "stdout",
     "output_type": "stream",
     "text": [
      "True\n"
     ]
    }
   ],
   "source": [
    "def isSymbol(char):\n",
    "    return not (char.isdigit() or char == '.')\n",
    "    \n",
    "print(isSymbol('?'))"
   ]
  },
  {
   "cell_type": "code",
   "execution_count": 12,
   "id": "5b98b8bc",
   "metadata": {},
   "outputs": [],
   "source": [
    "schematic = [\n",
    "    [1, 2, 3],\n",
    "    [4, 5, 6],\n",
    "    [7, 8, 9]\n",
    "]\n",
    "    \n",
    "def findNeighbours(arr,x,y):\n",
    "    directions = [\n",
    "        (-1,-1),\n",
    "        (-1,0),\n",
    "        (-1,+1),\n",
    "        (0,+1),\n",
    "        (+1,+1),\n",
    "        (+1,0),\n",
    "        (+1,-1),\n",
    "        (0,-1)\n",
    "    ]\n",
    "    print(arr[x][y])\n",
    "    maxX=len(arr)\n",
    "    print('maxX : ',maxX)\n",
    "    maxY=len(arr[0])\n",
    "    print('maxY : ',maxY)\n",
    "    for dx,dy in directions:\n",
    "        if(x+dx>=0 and x+dx<maxX and y+dy>=0 and y+dy<maxY):\n",
    "            print(dx,dy,':',arr[x+dx][y+dy],' | ',arr[x+dx][y+dy].isdigit())\n",
    "\n",
    "#findNeighbours(schematic,1,2)        "
   ]
  },
  {
   "cell_type": "code",
   "execution_count": 13,
   "id": "21ada96c",
   "metadata": {},
   "outputs": [
    {
     "name": "stdout",
     "output_type": "stream",
     "text": [
      "[['4', '6', '7', '.', '.', '1', '1', '4', '.', '.'], ['.', '.', '.', '*', '.', '.', '.', '.', '.', '.'], ['.', '.', '3', '5', '.', '.', '6', '3', '3', '.'], ['.', '.', '.', '.', '.', '.', '#', '.', '.', '.'], ['6', '1', '7', '*', '.', '.', '.', '.', '.', '.'], ['.', '.', '.', '.', '.', '+', '.', '5', '8', '.'], ['.', '.', '5', '9', '2', '.', '.', '.', '.', '.'], ['.', '.', '.', '.', '.', '.', '7', '5', '5', '.'], ['.', '.', '.', '$', '.', '*', '.', '.', '.', '.'], ['.', '6', '6', '4', '.', '5', '9', '8', '.', '.']]\n",
      "* [1,3] True\n",
      "*\n",
      "maxX :  10\n",
      "maxY :  10\n",
      "-1 -1 : 7  |  True\n",
      "-1 0 : .  |  False\n",
      "-1 1 : .  |  False\n",
      "0 1 : .  |  False\n",
      "1 1 : .  |  False\n",
      "1 0 : 5  |  True\n",
      "1 -1 : 3  |  True\n",
      "0 -1 : .  |  False\n",
      "None\n",
      "# [3,6] True\n",
      "#\n",
      "maxX :  10\n",
      "maxY :  10\n",
      "-1 -1 : .  |  False\n",
      "-1 0 : 6  |  True\n",
      "-1 1 : 3  |  True\n",
      "0 1 : .  |  False\n",
      "1 1 : .  |  False\n",
      "1 0 : .  |  False\n",
      "1 -1 : .  |  False\n",
      "0 -1 : .  |  False\n",
      "None\n",
      "* [4,3] True\n",
      "*\n",
      "maxX :  10\n",
      "maxY :  10\n",
      "-1 -1 : .  |  False\n",
      "-1 0 : .  |  False\n",
      "-1 1 : .  |  False\n",
      "0 1 : .  |  False\n",
      "1 1 : .  |  False\n",
      "1 0 : .  |  False\n",
      "1 -1 : .  |  False\n",
      "0 -1 : 7  |  True\n",
      "None\n",
      "+ [5,5] True\n",
      "+\n",
      "maxX :  10\n",
      "maxY :  10\n",
      "-1 -1 : .  |  False\n",
      "-1 0 : .  |  False\n",
      "-1 1 : .  |  False\n",
      "0 1 : .  |  False\n",
      "1 1 : .  |  False\n",
      "1 0 : .  |  False\n",
      "1 -1 : 2  |  True\n",
      "0 -1 : .  |  False\n",
      "None\n",
      "$ [8,3] True\n",
      "$\n",
      "maxX :  10\n",
      "maxY :  10\n",
      "-1 -1 : .  |  False\n",
      "-1 0 : .  |  False\n",
      "-1 1 : .  |  False\n",
      "0 1 : .  |  False\n",
      "1 1 : .  |  False\n",
      "1 0 : 4  |  True\n",
      "1 -1 : 6  |  True\n",
      "0 -1 : .  |  False\n",
      "None\n",
      "* [8,5] True\n",
      "*\n",
      "maxX :  10\n",
      "maxY :  10\n",
      "-1 -1 : .  |  False\n",
      "-1 0 : .  |  False\n",
      "-1 1 : 7  |  True\n",
      "0 1 : .  |  False\n",
      "1 1 : 9  |  True\n",
      "1 0 : 5  |  True\n",
      "1 -1 : .  |  False\n",
      "0 -1 : .  |  False\n",
      "None\n"
     ]
    }
   ],
   "source": [
    "schematic = []\n",
    "for line in lines:\n",
    "    #print(line.split('\\n'))\n",
    "    #print(list(line))\n",
    "    schematic.append(list(line))\n",
    "print(schematic)\n",
    "for i,row in enumerate(schematic):\n",
    "    for j,col in enumerate(row):\n",
    "        #print(col, f\"[{i},{j}]\", isSymbol(col))\n",
    "        if(isSymbol(col)):\n",
    "            print(col, f\"[{i},{j}]\", isSymbol(col))\n",
    "            print(findNeighbours(schematic,i,j))"
   ]
  },
  {
   "cell_type": "code",
   "execution_count": null,
   "id": "e90abd36",
   "metadata": {},
   "outputs": [],
   "source": []
  }
 ],
 "metadata": {
  "kernelspec": {
   "display_name": "Python 3 (ipykernel)",
   "language": "python",
   "name": "python3"
  },
  "language_info": {
   "codemirror_mode": {
    "name": "ipython",
    "version": 3
   },
   "file_extension": ".py",
   "mimetype": "text/x-python",
   "name": "python",
   "nbconvert_exporter": "python",
   "pygments_lexer": "ipython3",
   "version": "3.10.9"
  }
 },
 "nbformat": 4,
 "nbformat_minor": 5
}
