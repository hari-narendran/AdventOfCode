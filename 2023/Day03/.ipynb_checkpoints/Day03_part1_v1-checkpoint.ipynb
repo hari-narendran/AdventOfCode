{
 "cells": [
  {
   "cell_type": "code",
   "execution_count": 4,
   "id": "062d2f48",
   "metadata": {},
   "outputs": [
    {
     "name": "stdout",
     "output_type": "stream",
     "text": [
      "['467..114..', '...*......', '..35..633.', '......#...', '617*......', '.....+.58.', '..592.....', '......755.', '...$.*....', '.664.598..']\n"
     ]
    }
   ],
   "source": [
    "# Open the text file in read mode ('r')\n",
    "lines=[]\n",
    "with open('day03_sample.txt', 'r') as file:\n",
    "    for line in file:\n",
    "        lines.append(line.strip())\n",
    "\n",
    "print(lines)"
   ]
  },
  {
   "cell_type": "code",
   "execution_count": 43,
   "id": "9fa7fc53",
   "metadata": {},
   "outputs": [
    {
     "name": "stdout",
     "output_type": "stream",
     "text": [
      "False\n"
     ]
    }
   ],
   "source": [
    "def isSymbol(char):\n",
    "    return not (char.isdigit() or char == '.')\n",
    "    \n",
    "print(isSymbol('.'))"
   ]
  },
  {
   "cell_type": "code",
   "execution_count": 56,
   "id": "dabe27d2",
   "metadata": {},
   "outputs": [
    {
     "name": "stdout",
     "output_type": "stream",
     "text": [
      "5\n",
      "-1 -1 : 1\n",
      "-1 0 : 2\n",
      "-1 1 : 3\n",
      "0 1 : 6\n",
      "1 1 : 9\n",
      "1 0 : 8\n",
      "1 -1 : 7\n",
      "0 -1 : 4\n"
     ]
    }
   ],
   "source": [
    "schematic = [\n",
    "    [1, 2, 3],\n",
    "    [4, 5, 6],\n",
    "    [7, 8, 9]\n",
    "]\n",
    "    \n",
    "def findNeighbours(arr,x,y):\n",
    "    directions = [\n",
    "        (-1,-1),\n",
    "        (-1,0),\n",
    "        (-1,+1),\n",
    "        (0,+1),\n",
    "        (+1,+1),\n",
    "        (+1,0),\n",
    "        (+1,-1),\n",
    "        (0,-1)\n",
    "    ]\n",
    "    print(arr[x][y])\n",
    "    for dx,dy in directions:\n",
    "        print(dx,dy,':',arr[x+dx][y+dy])\n",
    "\n",
    "findNeighbours(schematic,1,1)        "
   ]
  },
  {
   "cell_type": "code",
   "execution_count": 44,
   "id": "21ada96c",
   "metadata": {},
   "outputs": [
    {
     "name": "stdout",
     "output_type": "stream",
     "text": [
      "[['4', '6', '7', '.', '.', '1', '1', '4', '.', '.'], ['.', '.', '.', '*', '.', '.', '.', '.', '.', '.'], ['.', '.', '3', '5', '.', '.', '6', '3', '3', '.'], ['.', '.', '.', '.', '.', '.', '#', '.', '.', '.'], ['6', '1', '7', '*', '.', '.', '.', '.', '.', '.'], ['.', '.', '.', '.', '.', '+', '.', '5', '8', '.'], ['.', '.', '5', '9', '2', '.', '.', '.', '.', '.'], ['.', '.', '.', '.', '.', '.', '7', '5', '5', '.'], ['.', '.', '.', '$', '.', '*', '.', '.', '.', '.'], ['.', '6', '6', '4', '.', '5', '9', '8', '.', '.']]\n",
      "4 [0,0] False\n",
      "6 [0,1] False\n",
      "7 [0,2] False\n",
      ". [0,3] False\n",
      ". [0,4] False\n",
      "1 [0,5] False\n",
      "1 [0,6] False\n",
      "4 [0,7] False\n",
      ". [0,8] False\n",
      ". [0,9] False\n",
      ". [1,0] False\n",
      ". [1,1] False\n",
      ". [1,2] False\n",
      "* [1,3] True\n",
      ". [1,4] False\n",
      ". [1,5] False\n",
      ". [1,6] False\n",
      ". [1,7] False\n",
      ". [1,8] False\n",
      ". [1,9] False\n",
      ". [2,0] False\n",
      ". [2,1] False\n",
      "3 [2,2] False\n",
      "5 [2,3] False\n",
      ". [2,4] False\n",
      ". [2,5] False\n",
      "6 [2,6] False\n",
      "3 [2,7] False\n",
      "3 [2,8] False\n",
      ". [2,9] False\n",
      ". [3,0] False\n",
      ". [3,1] False\n",
      ". [3,2] False\n",
      ". [3,3] False\n",
      ". [3,4] False\n",
      ". [3,5] False\n",
      "# [3,6] True\n",
      ". [3,7] False\n",
      ". [3,8] False\n",
      ". [3,9] False\n",
      "6 [4,0] False\n",
      "1 [4,1] False\n",
      "7 [4,2] False\n",
      "* [4,3] True\n",
      ". [4,4] False\n",
      ". [4,5] False\n",
      ". [4,6] False\n",
      ". [4,7] False\n",
      ". [4,8] False\n",
      ". [4,9] False\n",
      ". [5,0] False\n",
      ". [5,1] False\n",
      ". [5,2] False\n",
      ". [5,3] False\n",
      ". [5,4] False\n",
      "+ [5,5] True\n",
      ". [5,6] False\n",
      "5 [5,7] False\n",
      "8 [5,8] False\n",
      ". [5,9] False\n",
      ". [6,0] False\n",
      ". [6,1] False\n",
      "5 [6,2] False\n",
      "9 [6,3] False\n",
      "2 [6,4] False\n",
      ". [6,5] False\n",
      ". [6,6] False\n",
      ". [6,7] False\n",
      ". [6,8] False\n",
      ". [6,9] False\n",
      ". [7,0] False\n",
      ". [7,1] False\n",
      ". [7,2] False\n",
      ". [7,3] False\n",
      ". [7,4] False\n",
      ". [7,5] False\n",
      "7 [7,6] False\n",
      "5 [7,7] False\n",
      "5 [7,8] False\n",
      ". [7,9] False\n",
      ". [8,0] False\n",
      ". [8,1] False\n",
      ". [8,2] False\n",
      "$ [8,3] True\n",
      ". [8,4] False\n",
      "* [8,5] True\n",
      ". [8,6] False\n",
      ". [8,7] False\n",
      ". [8,8] False\n",
      ". [8,9] False\n",
      ". [9,0] False\n",
      "6 [9,1] False\n",
      "6 [9,2] False\n",
      "4 [9,3] False\n",
      ". [9,4] False\n",
      "5 [9,5] False\n",
      "9 [9,6] False\n",
      "8 [9,7] False\n",
      ". [9,8] False\n",
      ". [9,9] False\n"
     ]
    }
   ],
   "source": [
    "schematic = []\n",
    "for line in lines:\n",
    "    #print(line.split('\\n'))\n",
    "    #print(list(line))\n",
    "    schematic.append(list(line))\n",
    "print(schematic)\n",
    "for i,row in enumerate(schematic):\n",
    "    for j,col in enumerate(row):\n",
    "        print(col, f\"[{i},{j}]\", isSymbol(col))"
   ]
  },
  {
   "cell_type": "code",
   "execution_count": null,
   "id": "abd23dc6",
   "metadata": {},
   "outputs": [],
   "source": []
  }
 ],
 "metadata": {
  "kernelspec": {
   "display_name": "Python 3 (ipykernel)",
   "language": "python",
   "name": "python3"
  },
  "language_info": {
   "codemirror_mode": {
    "name": "ipython",
    "version": 3
   },
   "file_extension": ".py",
   "mimetype": "text/x-python",
   "name": "python",
   "nbconvert_exporter": "python",
   "pygments_lexer": "ipython3",
   "version": "3.10.9"
  }
 },
 "nbformat": 4,
 "nbformat_minor": 5
}
