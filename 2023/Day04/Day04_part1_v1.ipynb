{
 "cells": [
  {
   "cell_type": "code",
   "execution_count": 1,
   "id": "062d2f48",
   "metadata": {},
   "outputs": [
    {
     "name": "stdout",
     "output_type": "stream",
     "text": [
      "['Card 1: 41 48 83 86 17 | 83 86  6 31 17  9 48 53', 'Card 2: 13 32 20 16 61 | 61 30 68 82 17 32 24 19', 'Card 3:  1 21 53 59 44 | 69 82 63 72 16 21 14  1', 'Card 4: 41 92 73 84 69 | 59 84 76 51 58  5 54 83', 'Card 5: 87 83 26 28 32 | 88 30 70 12 93 22 82 36', 'Card 6: 31 18 13 56 72 | 74 77 10 23 35 67 36 11']\n"
     ]
    }
   ],
   "source": [
    "# Open the text file in read mode ('r')\n",
    "lines=[]\n",
    "with open('day04_sample.txt', 'r') as file:\n",
    "    for line in file:\n",
    "        lines.append(line.strip())\n",
    "\n",
    "print(lines)\n"
   ]
  },
  {
   "cell_type": "code",
   "execution_count": 31,
   "metadata": {},
   "outputs": [
    {
     "name": "stdout",
     "output_type": "stream",
     "text": [
      "First Part: 31 18 13 56 72\n",
      "Second Part: 74 77 10 23 35 67 36 11\n",
      "{'winNumbers': ['31', '18', '13', '56', '72'], 'handNumbers': ['74', '77', '10', '23', '35', '67', '36', '11']}\n"
     ]
    }
   ],
   "source": [
    "#card = 'Card 1: 41 48 83 86 17 | 83 86  6 31 17  9 48 53'\n",
    "\n",
    "text = \"Card 6: 31 18 13 56 72 | 74 77 10 23 35 67 36 11\"\n",
    "\n",
    "# Find the index of ':'\n",
    "colon_index = text.index(':')\n",
    "# Find the index of '|'\n",
    "pipe_index = text.index('|')\n",
    "# Extract the first part\n",
    "first_part = text[colon_index + 1:pipe_index].strip()\n",
    "# Extract the second part\n",
    "second_part = text[pipe_index + 1:].strip()\n",
    "\n",
    "print(\"First Part:\", first_part)\n",
    "print(\"Second Part:\", second_part)\n",
    "\n",
    "#List comprehension\n",
    "#new_list = [expression for item in iterable if condition]\n",
    "winNumberList = [item for item in first_part.split(' ') if item !='' ]\n",
    "handNumberList = [item for item in second_part.split(' ') if item !='' ]\n",
    "\n",
    "card = {'winNumbers':winNumberList, 'handNumbers': handNumberList}\n",
    "print(card)\n"
   ]
  },
  {
   "cell_type": "code",
   "execution_count": 33,
   "metadata": {},
   "outputs": [
    {
     "name": "stdout",
     "output_type": "stream",
     "text": [
      "Points:  0\n"
     ]
    }
   ],
   "source": [
    "points = 1\n",
    "count = 0\n",
    "for handNumber in card['handNumbers']:\n",
    "    if handNumber in card['winNumbers']:\n",
    "        count += 1\n",
    "        print(handNumber)\n",
    "        if(count > 1):\n",
    "            points += points\n",
    "if(count == 0):\n",
    "    points = 0\n",
    "print('Points: ', points)"
   ]
  }
 ],
 "metadata": {
  "kernelspec": {
   "display_name": "Python 3 (ipykernel)",
   "language": "python",
   "name": "python3"
  },
  "language_info": {
   "codemirror_mode": {
    "name": "ipython",
    "version": 3
   },
   "file_extension": ".py",
   "mimetype": "text/x-python",
   "name": "python",
   "nbconvert_exporter": "python",
   "pygments_lexer": "ipython3",
   "version": "3.9.6"
  }
 },
 "nbformat": 4,
 "nbformat_minor": 5
}
