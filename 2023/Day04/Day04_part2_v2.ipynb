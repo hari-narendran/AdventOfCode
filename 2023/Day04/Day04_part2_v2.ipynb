{
 "cells": [
  {
   "cell_type": "code",
   "execution_count": 1,
   "id": "062d2f48",
   "metadata": {},
   "outputs": [],
   "source": [
    "# Open the text file in read mode ('r')\n",
    "lines=[]\n",
    "with open('day04_sample.txt', 'r') as file:\n",
    "    for line in file:\n",
    "        lines.append(line.strip())\n",
    "\n",
    "#print(lines)\n"
   ]
  },
  {
   "cell_type": "code",
   "execution_count": 2,
   "id": "68e868d3",
   "metadata": {},
   "outputs": [
    {
     "name": "stdout",
     "output_type": "stream",
     "text": [
      "{'winNumbers': ['41', '48', '83', '86', '17'], 'handNumbers': ['83', '86', '6', '31', '17', '9', '48', '53'], 'cardPoints': 0, 'matchingNumbers': 0}\n"
     ]
    }
   ],
   "source": [
    "def parseCard(text):\n",
    "    # Find the index of ':'\n",
    "    colon_index = text.index(':')\n",
    "    # Find the index of '|'\n",
    "    pipe_index = text.index('|')\n",
    "    # Extract the first part\n",
    "    first_part = text[colon_index + 1:pipe_index].strip()\n",
    "    # Extract the second part\n",
    "    second_part = text[pipe_index + 1:].strip()\n",
    "\n",
    "    #List comprehension\n",
    "    #new_list = [expression for item in iterable if condition]\n",
    "    winNumberList = [item for item in first_part.split(' ') if item !='' ]\n",
    "    handNumberList = [item for item in second_part.split(' ') if item !='' ]\n",
    "\n",
    "    card = {'winNumbers':winNumberList, 'handNumbers': handNumberList, 'cardPoints': 0, 'matchingNumbers': 0}\n",
    "    #print(card)\n",
    "    return card\n",
    "\n",
    "print(parseCard('Card 1: 41 48 83 86 17 | 83 86  6 31 17  9 48 53'))"
   ]
  },
  {
   "cell_type": "code",
   "execution_count": 3,
   "id": "aeec38dc",
   "metadata": {},
   "outputs": [
    {
     "name": "stdout",
     "output_type": "stream",
     "text": [
      "[{'winNumbers': ['41', '48', '83', '86', '17'], 'handNumbers': ['83', '86', '6', '31', '17', '9', '48', '53'], 'cardPoints': 0, 'matchingNumbers': 0}, {'winNumbers': ['13', '32', '20', '16', '61'], 'handNumbers': ['61', '30', '68', '82', '17', '32', '24', '19'], 'cardPoints': 0, 'matchingNumbers': 0}, {'winNumbers': ['1', '21', '53', '59', '44'], 'handNumbers': ['69', '82', '63', '72', '16', '21', '14', '1'], 'cardPoints': 0, 'matchingNumbers': 0}, {'winNumbers': ['41', '92', '73', '84', '69'], 'handNumbers': ['59', '84', '76', '51', '58', '5', '54', '83'], 'cardPoints': 0, 'matchingNumbers': 0}, {'winNumbers': ['87', '83', '26', '28', '32'], 'handNumbers': ['88', '30', '70', '12', '93', '22', '82', '36'], 'cardPoints': 0, 'matchingNumbers': 0}, {'winNumbers': ['31', '18', '13', '56', '72'], 'handNumbers': ['74', '77', '10', '23', '35', '67', '36', '11'], 'cardPoints': 0, 'matchingNumbers': 0}]\n"
     ]
    }
   ],
   "source": [
    "cards = []\n",
    "\n",
    "for line in lines:\n",
    "    cards.append(parseCard(line))\n",
    "\n",
    "print(cards)"
   ]
  },
  {
   "cell_type": "code",
   "execution_count": 4,
   "id": "1b6f9881",
   "metadata": {},
   "outputs": [
    {
     "name": "stdout",
     "output_type": "stream",
     "text": [
      "Points:  8\n",
      "{'winNumbers': ['41', '48', '83', '86', '17'], 'handNumbers': ['83', '86', '6', '31', '17', '9', '48', '53'], 'cardPoints': 8, 'matchingNumbers': 4}\n"
     ]
    }
   ],
   "source": [
    "def calculatePoints(card):\n",
    "    points = 1\n",
    "    count = 0\n",
    "    for handNumber in card['handNumbers']:\n",
    "        if handNumber in card['winNumbers']:\n",
    "            count += 1\n",
    "            #print(handNumber)\n",
    "            if(count > 1):\n",
    "                points += points\n",
    "    if(count == 0):\n",
    "        points = 0\n",
    "    print('Points: ', points)\n",
    "    card['cardPoints'] = points\n",
    "    card['matchingNumbers'] = count\n",
    "    return card\n",
    "\n",
    "print(calculatePoints({'winNumbers': ['41', '48', '83', '86', '17'], 'handNumbers': ['83', '86', '6', '31', '17', '9', '48', '53']}))"
   ]
  },
  {
   "cell_type": "code",
   "execution_count": 5,
   "id": "37789dad",
   "metadata": {},
   "outputs": [
    {
     "name": "stdout",
     "output_type": "stream",
     "text": [
      "Points:  8\n",
      "Points:  2\n",
      "Points:  2\n",
      "Points:  1\n",
      "Points:  0\n",
      "Points:  0\n",
      "13\n",
      "[{'winNumbers': ['41', '48', '83', '86', '17'], 'handNumbers': ['83', '86', '6', '31', '17', '9', '48', '53'], 'cardPoints': 8, 'matchingNumbers': 4}, {'winNumbers': ['13', '32', '20', '16', '61'], 'handNumbers': ['61', '30', '68', '82', '17', '32', '24', '19'], 'cardPoints': 2, 'matchingNumbers': 2}, {'winNumbers': ['1', '21', '53', '59', '44'], 'handNumbers': ['69', '82', '63', '72', '16', '21', '14', '1'], 'cardPoints': 2, 'matchingNumbers': 2}, {'winNumbers': ['41', '92', '73', '84', '69'], 'handNumbers': ['59', '84', '76', '51', '58', '5', '54', '83'], 'cardPoints': 1, 'matchingNumbers': 1}, {'winNumbers': ['87', '83', '26', '28', '32'], 'handNumbers': ['88', '30', '70', '12', '93', '22', '82', '36'], 'cardPoints': 0, 'matchingNumbers': 0}, {'winNumbers': ['31', '18', '13', '56', '72'], 'handNumbers': ['74', '77', '10', '23', '35', '67', '36', '11'], 'cardPoints': 0, 'matchingNumbers': 0}]\n"
     ]
    }
   ],
   "source": [
    "totalPoints = 0\n",
    "\n",
    "for card in cards:\n",
    "    card = calculatePoints(card)\n",
    "    totalPoints += card['cardPoints']\n",
    "\n",
    "print(totalPoints)\n",
    "print(cards)\n"
   ]
  },
  {
   "cell_type": "code",
   "execution_count": null,
   "id": "9a75f92b",
   "metadata": {},
   "outputs": [
    {
     "name": "stdout",
     "output_type": "stream",
     "text": [
      "Card Number: 1\n",
      "Card: {'winNumbers': ['41', '48', '83', '86', '17'], 'handNumbers': ['83', '86', '6', '31', '17', '9', '48', '53'], 'cardPoints': 8, 'matchingNumbers': 4}\n",
      "2 {'winNumbers': ['13', '32', '20', '16', '61'], 'handNumbers': ['61', '30', '68', '82', '17', '32', '24', '19'], 'cardPoints': 2, 'matchingNumbers': 2}\n",
      "3 {'winNumbers': ['1', '21', '53', '59', '44'], 'handNumbers': ['69', '82', '63', '72', '16', '21', '14', '1'], 'cardPoints': 2, 'matchingNumbers': 2}\n",
      "4 {'winNumbers': ['41', '92', '73', '84', '69'], 'handNumbers': ['59', '84', '76', '51', '58', '5', '54', '83'], 'cardPoints': 1, 'matchingNumbers': 1}\n",
      "5 {'winNumbers': ['87', '83', '26', '28', '32'], 'handNumbers': ['88', '30', '70', '12', '93', '22', '82', '36'], 'cardPoints': 0, 'matchingNumbers': 0}\n",
      "CP 5\n",
      "Card Number: 2\n",
      "Card: {'winNumbers': ['13', '32', '20', '16', '61'], 'handNumbers': ['61', '30', '68', '82', '17', '32', '24', '19'], 'cardPoints': 2, 'matchingNumbers': 2}\n",
      "3 {'winNumbers': ['1', '21', '53', '59', '44'], 'handNumbers': ['69', '82', '63', '72', '16', '21', '14', '1'], 'cardPoints': 2, 'matchingNumbers': 2}\n",
      "4 {'winNumbers': ['41', '92', '73', '84', '69'], 'handNumbers': ['59', '84', '76', '51', '58', '5', '54', '83'], 'cardPoints': 1, 'matchingNumbers': 1}\n",
      "CP 3\n",
      "Card Number: 3\n",
      "Card: {'winNumbers': ['1', '21', '53', '59', '44'], 'handNumbers': ['69', '82', '63', '72', '16', '21', '14', '1'], 'cardPoints': 2, 'matchingNumbers': 2}\n",
      "4 {'winNumbers': ['41', '92', '73', '84', '69'], 'handNumbers': ['59', '84', '76', '51', '58', '5', '54', '83'], 'cardPoints': 1, 'matchingNumbers': 1}\n",
      "5 {'winNumbers': ['87', '83', '26', '28', '32'], 'handNumbers': ['88', '30', '70', '12', '93', '22', '82', '36'], 'cardPoints': 0, 'matchingNumbers': 0}\n",
      "CP 1\n",
      "Card Number: 4\n",
      "Card: {'winNumbers': ['41', '92', '73', '84', '69'], 'handNumbers': ['59', '84', '76', '51', '58', '5', '54', '83'], 'cardPoints': 1, 'matchingNumbers': 1}\n",
      "5 {'winNumbers': ['87', '83', '26', '28', '32'], 'handNumbers': ['88', '30', '70', '12', '93', '22', '82', '36'], 'cardPoints': 0, 'matchingNumbers': 0}\n",
      "CP 0\n",
      "Card Number: 5\n",
      "Card: {'winNumbers': ['87', '83', '26', '28', '32'], 'handNumbers': ['88', '30', '70', '12', '93', '22', '82', '36'], 'cardPoints': 0, 'matchingNumbers': 0}\n",
      "CP 0\n",
      "Card Number: 6\n",
      "Card: {'winNumbers': ['31', '18', '13', '56', '72'], 'handNumbers': ['74', '77', '10', '23', '35', '67', '36', '11'], 'cardPoints': 0, 'matchingNumbers': 0}\n",
      "CP 0\n",
      "Total :  9\n"
     ]
    }
   ],
   "source": [
    "def calculateCardPoints(card):\n",
    "    points = 1\n",
    "    count = 0\n",
    "    for handNumber in card['handNumbers']:\n",
    "        if handNumber in card['winNumbers']:\n",
    "            count += 1\n",
    "            #print(handNumber)\n",
    "            if(count > 1):\n",
    "                points += points\n",
    "    if(count == 0):\n",
    "        points = 0\n",
    "    #print('Points: ', points)\n",
    "    return points\n",
    "\n",
    "totalScratchCards = 0\n",
    "for index, card in enumerate(cards):\n",
    "    print(\"Card Number:\", index+1)\n",
    "    print(\"Card:\", card)\n",
    "    cardNumber = index+1\n",
    "    copiedPoints = 0\n",
    "    for i in range(cardNumber+1,cardNumber+card['matchingNumbers']+1):\n",
    "        print(i,cards[i-1])\n",
    "        copiedPoints += calculateCardPoints(cards[i-1])\n",
    "        for j in range()\n",
    "    print('CP',copiedPoints)\n",
    "    totalScratchCards += copiedPoints\n",
    "print('Total : ',totalScratchCards)"
   ]
  },
  {
   "cell_type": "code",
   "execution_count": 3,
   "id": "21f3196d",
   "metadata": {},
   "outputs": [
    {
     "name": "stdout",
     "output_type": "stream",
     "text": [
      "Part1: 13\n",
      "10378710\n"
     ]
    }
   ],
   "source": [
    "sample2_path = \"./day04_sample.txt\"\n",
    "input_path = \"./day04.txt\"\n",
    "\n",
    "def part1(lines):\n",
    "    def calculate_points(card):\n",
    "        count = len(set(card['WinningNumbers']).intersection(card['MyNumbers']))\n",
    "        if count > 0:\n",
    "            points = sum(1 if i < 2 else 2 << (i - 2) for i in range(count))\n",
    "            return points\n",
    "        return 0\n",
    "\n",
    "    cards = [parse_line(line) for line in lines]\n",
    "    accumulative_total = sum(calculate_points(card) for card in cards)\n",
    "    print(f\"Part1: {accumulative_total}\")\n",
    "\n",
    "def part2(input_lines):\n",
    "    def update_card_count(card_count, card, match_count):\n",
    "        for i in range(match_count):\n",
    "            card_count[card_id + 1 + i] += card_count[card_id]\n",
    "\n",
    "    input_length = len(input_lines)\n",
    "    card_count = [1] * input_length\n",
    "\n",
    "    for card_id in range(input_length):\n",
    "        line = input_lines[card_id]\n",
    "        card = parse_line(line)\n",
    "        match_count = len(set(card['WinningNumbers']).intersection(card['MyNumbers']))\n",
    "        update_card_count(card_count, card, match_count)\n",
    "\n",
    "    print(sum(card_count))\n",
    "\n",
    "def parse_line(line):\n",
    "    parts = line.split(':')\n",
    "    numbers = parts[1].split('|')\n",
    "    winning_numbers = extract_numbers(numbers[0])\n",
    "    my_numbers = extract_numbers(numbers[1])\n",
    "\n",
    "    return {'WinningNumbers': winning_numbers, 'MyNumbers': my_numbers}\n",
    "\n",
    "def extract_numbers(input_str):\n",
    "    return [int(num) for num in input_str.split()]\n",
    "\n",
    "if __name__ == \"__main__\":\n",
    "    with open(sample2_path, 'r') as sample_file:\n",
    "        sample_lines = sample_file.read().splitlines()\n",
    "\n",
    "    with open(input_path, 'r') as input_file:\n",
    "        input_lines = input_file.read().splitlines()\n",
    "\n",
    "    part1(sample_lines)\n",
    "    part2(input_lines)\n"
   ]
  },
  {
   "cell_type": "code",
   "execution_count": null,
   "id": "052043f7",
   "metadata": {},
   "outputs": [],
   "source": []
  }
 ],
 "metadata": {
  "kernelspec": {
   "display_name": "Python 3 (ipykernel)",
   "language": "python",
   "name": "python3"
  },
  "language_info": {
   "codemirror_mode": {
    "name": "ipython",
    "version": 3
   },
   "file_extension": ".py",
   "mimetype": "text/x-python",
   "name": "python",
   "nbconvert_exporter": "python",
   "pygments_lexer": "ipython3",
   "version": "3.9.6"
  }
 },
 "nbformat": 4,
 "nbformat_minor": 5
}
